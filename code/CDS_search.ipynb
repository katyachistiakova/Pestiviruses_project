{
 "cells": [
  {
   "cell_type": "code",
   "execution_count": 1,
   "id": "f629c5d1",
   "metadata": {},
   "outputs": [],
   "source": [
    "from Bio import Entrez\n",
    "from Bio import SeqIO\n",
    "from Bio.SeqRecord import SeqRecord"
   ]
  },
  {
   "cell_type": "code",
   "execution_count": 6,
   "id": "68c7b16f",
   "metadata": {},
   "outputs": [
    {
     "name": "stdout",
     "output_type": "stream",
     "text": [
      "Всего accession numbers в файле: 1857\n",
      "Total count: 1857\n",
      "Success1788\n",
      "No CDS: 69\n",
      "Errors: 0\n"
     ]
    }
   ],
   "source": [
    "def process_sequences():\n",
    "    Entrez.email = 'katyachistiakova.05@mail.ru'  \n",
    "    input_file = r\"C:\\Users\\2slon\\OneDrive\\Рабочий стол\\5sem\\pestiviruses\\full_sequences.acc\"\n",
    "\n",
    "    with open(input_file, 'r') as ac:\n",
    "        accessions = [line.strip() for line in ac if line.strip()]\n",
    "    \n",
    "    total_count = len(accessions)\n",
    "    print(f\"Всего accession numbers в файле: {total_count}\")\n",
    "\n",
    "    success_count = 0\n",
    "    no_cds_count = 0\n",
    "    error_count = 0\n",
    "\n",
    "    out_cds = open('CDS_full_sequences.fasta', 'w')\n",
    "    out_no_cds = open('no_cds_sequences.fasta', 'w')\n",
    "    out_log = open('no_cds.log', 'w')\n",
    "\n",
    "    for accession in accessions:\n",
    "        try:\n",
    "            handle = Entrez.efetch(db=\"nucleotide\", id=accession, rettype='gbwithparts', retmode='text')\n",
    "            record = SeqIO.read(handle, \"genbank\")\n",
    "            handle.close()\n",
    "            cds_features = [feat for feat in record.features if feat.type == \"CDS\"]\n",
    "\n",
    "            if cds_features:\n",
    "                CDS = cds_features[0].extract(record.seq)\n",
    "                cds_record = SeqRecord(\n",
    "                    CDS,\n",
    "                    id=record.id,\n",
    "                    name=record.name,\n",
    "                    description=f\"{record.description}\"\n",
    "                )\n",
    "                SeqIO.write(cds_record, out_cds, 'fasta')\n",
    "                success_count += 1\n",
    "\n",
    "            else:\n",
    "                full_record = SeqRecord(\n",
    "                    record.seq,\n",
    "                    id=record.id,\n",
    "                    name=record.name,\n",
    "                    description=f\"{record.description}\"\n",
    "                )\n",
    "                SeqIO.write(full_record, out_no_cds, 'fasta')\n",
    "                out_log.write(f\"{accession}\\n\")\n",
    "                no_cds_count += 1\n",
    "\n",
    "        except Exception as e:\n",
    "            error_count += 1\n",
    "            out_log.write(f\"ERROR: {accession} - {str(e)}\\n\")\n",
    "\n",
    "    out_cds.close()\n",
    "    out_no_cds.close()\n",
    "    out_log.close()\n",
    "\n",
    "    \n",
    "    print(f\"Total count: {total_count}\")\n",
    "    print(f\"Success: {success_count}\")\n",
    "    print(f\"No CDS: {no_cds_count}\")\n",
    "    print(f\"Errors: {error_count}\")\n",
    "   \n",
    "process_sequences()\n"
   ]
  }
 ],
 "metadata": {
  "kernelspec": {
   "display_name": "Python NA2",
   "language": "python",
   "name": "na2"
  },
  "language_info": {
   "codemirror_mode": {
    "name": "ipython",
    "version": 3
   },
   "file_extension": ".py",
   "mimetype": "text/x-python",
   "name": "python",
   "nbconvert_exporter": "python",
   "pygments_lexer": "ipython3",
   "version": "3.12.3"
  }
 },
 "nbformat": 4,
 "nbformat_minor": 5
}
