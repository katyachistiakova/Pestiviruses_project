{
 "cells": [
  {
   "cell_type": "code",
   "execution_count": 1,
   "id": "f629c5d1",
   "metadata": {},
   "outputs": [],
   "source": [
    "from Bio import Entrez\n",
    "from Bio import SeqIO\n",
    "from Bio.SeqRecord import SeqRecord"
   ]
  },
  {
   "cell_type": "code",
   "execution_count": 2,
   "id": "68c7b16f",
   "metadata": {},
   "outputs": [
    {
     "name": "stdout",
     "output_type": "stream",
     "text": [
      "Всего accession numbers в файле: 1857\n"
     ]
    },
    {
     "ename": "KeyboardInterrupt",
     "evalue": "",
     "output_type": "error",
     "traceback": [
      "\u001b[1;31m---------------------------------------------------------------------------\u001b[0m",
      "\u001b[1;31mTypeError\u001b[0m                                 Traceback (most recent call last)",
      "File \u001b[1;32mc:\\Users\\2slon\\anaconda3\\Lib\\site-packages\\Bio\\File.py:72\u001b[0m, in \u001b[0;36mas_handle\u001b[1;34m(handleish, mode, **kwargs)\u001b[0m\n\u001b[0;32m     71\u001b[0m \u001b[38;5;28;01mtry\u001b[39;00m:\n\u001b[1;32m---> 72\u001b[0m     \u001b[38;5;28;01mwith\u001b[39;00m \u001b[38;5;28mopen\u001b[39m(handleish, mode, \u001b[38;5;241m*\u001b[39m\u001b[38;5;241m*\u001b[39mkwargs) \u001b[38;5;28;01mas\u001b[39;00m fp:\n\u001b[0;32m     73\u001b[0m         \u001b[38;5;28;01myield\u001b[39;00m fp\n",
      "\u001b[1;31mTypeError\u001b[0m: expected str, bytes or os.PathLike object, not TextIOWrapper",
      "\nDuring handling of the above exception, another exception occurred:\n",
      "\u001b[1;31mKeyboardInterrupt\u001b[0m                         Traceback (most recent call last)",
      "Cell \u001b[1;32mIn[2], line 62\u001b[0m\n\u001b[0;32m     59\u001b[0m     \u001b[38;5;28mprint\u001b[39m(\u001b[38;5;124mf\u001b[39m\u001b[38;5;124m\"\u001b[39m\u001b[38;5;124mNo CDS: \u001b[39m\u001b[38;5;132;01m{\u001b[39;00mno_cds_count\u001b[38;5;132;01m}\u001b[39;00m\u001b[38;5;124m\"\u001b[39m)\n\u001b[0;32m     60\u001b[0m     \u001b[38;5;28mprint\u001b[39m(\u001b[38;5;124mf\u001b[39m\u001b[38;5;124m\"\u001b[39m\u001b[38;5;124mErrors: \u001b[39m\u001b[38;5;132;01m{\u001b[39;00merror_count\u001b[38;5;132;01m}\u001b[39;00m\u001b[38;5;124m\"\u001b[39m)\n\u001b[1;32m---> 62\u001b[0m process_sequences()\n",
      "Cell \u001b[1;32mIn[2], line 22\u001b[0m, in \u001b[0;36mprocess_sequences\u001b[1;34m()\u001b[0m\n\u001b[0;32m     20\u001b[0m \u001b[38;5;28;01mtry\u001b[39;00m:\n\u001b[0;32m     21\u001b[0m     handle \u001b[38;5;241m=\u001b[39m Entrez\u001b[38;5;241m.\u001b[39mefetch(db\u001b[38;5;241m=\u001b[39m\u001b[38;5;124m\"\u001b[39m\u001b[38;5;124mnucleotide\u001b[39m\u001b[38;5;124m\"\u001b[39m, \u001b[38;5;28mid\u001b[39m\u001b[38;5;241m=\u001b[39maccession, rettype\u001b[38;5;241m=\u001b[39m\u001b[38;5;124m'\u001b[39m\u001b[38;5;124mgbwithparts\u001b[39m\u001b[38;5;124m'\u001b[39m, retmode\u001b[38;5;241m=\u001b[39m\u001b[38;5;124m'\u001b[39m\u001b[38;5;124mtext\u001b[39m\u001b[38;5;124m'\u001b[39m)\n\u001b[1;32m---> 22\u001b[0m     record \u001b[38;5;241m=\u001b[39m SeqIO\u001b[38;5;241m.\u001b[39mread(handle, \u001b[38;5;124m\"\u001b[39m\u001b[38;5;124mgenbank\u001b[39m\u001b[38;5;124m\"\u001b[39m)\n\u001b[0;32m     23\u001b[0m     handle\u001b[38;5;241m.\u001b[39mclose()\n\u001b[0;32m     24\u001b[0m     cds_features \u001b[38;5;241m=\u001b[39m [feat \u001b[38;5;28;01mfor\u001b[39;00m feat \u001b[38;5;129;01min\u001b[39;00m record\u001b[38;5;241m.\u001b[39mfeatures \u001b[38;5;28;01mif\u001b[39;00m feat\u001b[38;5;241m.\u001b[39mtype \u001b[38;5;241m==\u001b[39m \u001b[38;5;124m\"\u001b[39m\u001b[38;5;124mCDS\u001b[39m\u001b[38;5;124m\"\u001b[39m]\n",
      "File \u001b[1;32mc:\\Users\\2slon\\anaconda3\\Lib\\site-packages\\Bio\\SeqIO\\__init__.py:689\u001b[0m, in \u001b[0;36mread\u001b[1;34m(handle, format, alphabet)\u001b[0m\n\u001b[0;32m    687\u001b[0m \u001b[38;5;28;01mwith\u001b[39;00m parse(handle, \u001b[38;5;28mformat\u001b[39m, alphabet) \u001b[38;5;28;01mas\u001b[39;00m records:\n\u001b[0;32m    688\u001b[0m     \u001b[38;5;28;01mtry\u001b[39;00m:\n\u001b[1;32m--> 689\u001b[0m         record \u001b[38;5;241m=\u001b[39m \u001b[38;5;28mnext\u001b[39m(records)\n\u001b[0;32m    690\u001b[0m     \u001b[38;5;28;01mexcept\u001b[39;00m \u001b[38;5;167;01mStopIteration\u001b[39;00m:\n\u001b[0;32m    691\u001b[0m         \u001b[38;5;28;01mraise\u001b[39;00m \u001b[38;5;167;01mValueError\u001b[39;00m(\u001b[38;5;124m\"\u001b[39m\u001b[38;5;124mNo records found in handle\u001b[39m\u001b[38;5;124m\"\u001b[39m) \u001b[38;5;28;01mfrom\u001b[39;00m \u001b[38;5;28;01mNone\u001b[39;00m\n",
      "File \u001b[1;32mc:\\Users\\2slon\\anaconda3\\Lib\\site-packages\\Bio\\SeqIO\\InsdcIO.py:109\u001b[0m, in \u001b[0;36mGenBankIterator.__next__\u001b[1;34m(self)\u001b[0m\n\u001b[0;32m    107\u001b[0m \u001b[38;5;28;01mdef\u001b[39;00m \u001b[38;5;21m__next__\u001b[39m(\u001b[38;5;28mself\u001b[39m):\n\u001b[0;32m    108\u001b[0m \u001b[38;5;250m    \u001b[39m\u001b[38;5;124;03m\"\"\"Return the next SeqRecord.\"\"\"\u001b[39;00m\n\u001b[1;32m--> 109\u001b[0m     \u001b[38;5;28;01mreturn\u001b[39;00m \u001b[38;5;28mnext\u001b[39m(\u001b[38;5;28mself\u001b[39m\u001b[38;5;241m.\u001b[39mrecords)\n",
      "File \u001b[1;32mc:\\Users\\2slon\\anaconda3\\Lib\\site-packages\\Bio\\GenBank\\Scanner.py:512\u001b[0m, in \u001b[0;36mInsdcScanner.parse_records\u001b[1;34m(self, handle, do_features)\u001b[0m\n\u001b[0;32m    510\u001b[0m \u001b[38;5;28;01mwith\u001b[39;00m as_handle(handle) \u001b[38;5;28;01mas\u001b[39;00m handle:\n\u001b[0;32m    511\u001b[0m     \u001b[38;5;28;01mwhile\u001b[39;00m \u001b[38;5;28;01mTrue\u001b[39;00m:\n\u001b[1;32m--> 512\u001b[0m         record \u001b[38;5;241m=\u001b[39m \u001b[38;5;28mself\u001b[39m\u001b[38;5;241m.\u001b[39mparse(handle, do_features)\n\u001b[0;32m    513\u001b[0m         \u001b[38;5;28;01mif\u001b[39;00m record \u001b[38;5;129;01mis\u001b[39;00m \u001b[38;5;28;01mNone\u001b[39;00m:\n\u001b[0;32m    514\u001b[0m             \u001b[38;5;28;01mbreak\u001b[39;00m\n",
      "File \u001b[1;32mc:\\Users\\2slon\\anaconda3\\Lib\\site-packages\\Bio\\GenBank\\Scanner.py:495\u001b[0m, in \u001b[0;36mInsdcScanner.parse\u001b[1;34m(self, handle, do_features)\u001b[0m\n\u001b[0;32m    489\u001b[0m \u001b[38;5;28;01mfrom\u001b[39;00m \u001b[38;5;21;01mBio\u001b[39;00m\u001b[38;5;21;01m.\u001b[39;00m\u001b[38;5;21;01mGenBank\u001b[39;00m\u001b[38;5;21;01m.\u001b[39;00m\u001b[38;5;21;01mutils\u001b[39;00m \u001b[38;5;28;01mimport\u001b[39;00m FeatureValueCleaner\n\u001b[0;32m    491\u001b[0m consumer \u001b[38;5;241m=\u001b[39m _FeatureConsumer(\n\u001b[0;32m    492\u001b[0m     use_fuzziness\u001b[38;5;241m=\u001b[39m\u001b[38;5;241m1\u001b[39m, feature_cleaner\u001b[38;5;241m=\u001b[39mFeatureValueCleaner()\n\u001b[0;32m    493\u001b[0m )\n\u001b[1;32m--> 495\u001b[0m \u001b[38;5;28;01mif\u001b[39;00m \u001b[38;5;28mself\u001b[39m\u001b[38;5;241m.\u001b[39mfeed(handle, consumer, do_features):\n\u001b[0;32m    496\u001b[0m     \u001b[38;5;28;01mreturn\u001b[39;00m consumer\u001b[38;5;241m.\u001b[39mdata\n\u001b[0;32m    497\u001b[0m \u001b[38;5;28;01melse\u001b[39;00m:\n",
      "File \u001b[1;32mc:\\Users\\2slon\\anaconda3\\Lib\\site-packages\\Bio\\GenBank\\Scanner.py:471\u001b[0m, in \u001b[0;36mInsdcScanner.feed\u001b[1;34m(self, handle, consumer, do_features)\u001b[0m\n\u001b[0;32m    468\u001b[0m     \u001b[38;5;28mself\u001b[39m\u001b[38;5;241m.\u001b[39mparse_features(skip\u001b[38;5;241m=\u001b[39m\u001b[38;5;28;01mTrue\u001b[39;00m)  \u001b[38;5;66;03m# ignore the data\u001b[39;00m\n\u001b[0;32m    470\u001b[0m \u001b[38;5;66;03m# Footer and sequence\u001b[39;00m\n\u001b[1;32m--> 471\u001b[0m misc_lines, sequence_string \u001b[38;5;241m=\u001b[39m \u001b[38;5;28mself\u001b[39m\u001b[38;5;241m.\u001b[39mparse_footer()\n\u001b[0;32m    472\u001b[0m \u001b[38;5;28mself\u001b[39m\u001b[38;5;241m.\u001b[39m_feed_misc_lines(consumer, misc_lines)\n\u001b[0;32m    474\u001b[0m consumer\u001b[38;5;241m.\u001b[39msequence(sequence_string)\n",
      "File \u001b[1;32mc:\\Users\\2slon\\anaconda3\\Lib\\site-packages\\Bio\\GenBank\\Scanner.py:1238\u001b[0m, in \u001b[0;36mGenBankScanner.parse_footer\u001b[1;34m(self)\u001b[0m\n\u001b[0;32m   1236\u001b[0m             \u001b[38;5;28;01mraise\u001b[39;00m \u001b[38;5;167;01mValueError\u001b[39;00m(\u001b[38;5;124mf\u001b[39m\u001b[38;5;124m\"\u001b[39m\u001b[38;5;124mSequence line mal-formed, \u001b[39m\u001b[38;5;124m'\u001b[39m\u001b[38;5;132;01m{\u001b[39;00mline\u001b[38;5;132;01m}\u001b[39;00m\u001b[38;5;124m'\u001b[39m\u001b[38;5;124m\"\u001b[39m)\n\u001b[0;32m   1237\u001b[0m     seq_lines\u001b[38;5;241m.\u001b[39mappend(line[\u001b[38;5;241m10\u001b[39m:])  \u001b[38;5;66;03m# remove spaces later\u001b[39;00m\n\u001b[1;32m-> 1238\u001b[0m     line \u001b[38;5;241m=\u001b[39m \u001b[38;5;28mself\u001b[39m\u001b[38;5;241m.\u001b[39mhandle\u001b[38;5;241m.\u001b[39mreadline()\n\u001b[0;32m   1240\u001b[0m \u001b[38;5;28mself\u001b[39m\u001b[38;5;241m.\u001b[39mline \u001b[38;5;241m=\u001b[39m line\n\u001b[0;32m   1241\u001b[0m \u001b[38;5;28;01mreturn\u001b[39;00m misc_lines, \u001b[38;5;124m\"\u001b[39m\u001b[38;5;124m\"\u001b[39m\u001b[38;5;241m.\u001b[39mjoin(seq_lines)\u001b[38;5;241m.\u001b[39mreplace(\u001b[38;5;124m\"\u001b[39m\u001b[38;5;124m \u001b[39m\u001b[38;5;124m\"\u001b[39m, \u001b[38;5;124m\"\u001b[39m\u001b[38;5;124m\"\u001b[39m)\n",
      "File \u001b[1;32mc:\\Users\\2slon\\anaconda3\\Lib\\http\\client.py:660\u001b[0m, in \u001b[0;36mHTTPResponse.read1\u001b[1;34m(self, n)\u001b[0m\n\u001b[0;32m    658\u001b[0m     \u001b[38;5;28;01mreturn\u001b[39;00m \u001b[38;5;124mb\u001b[39m\u001b[38;5;124m\"\u001b[39m\u001b[38;5;124m\"\u001b[39m\n\u001b[0;32m    659\u001b[0m \u001b[38;5;28;01mif\u001b[39;00m \u001b[38;5;28mself\u001b[39m\u001b[38;5;241m.\u001b[39mchunked:\n\u001b[1;32m--> 660\u001b[0m     \u001b[38;5;28;01mreturn\u001b[39;00m \u001b[38;5;28mself\u001b[39m\u001b[38;5;241m.\u001b[39m_read1_chunked(n)\n\u001b[0;32m    661\u001b[0m \u001b[38;5;28;01mif\u001b[39;00m \u001b[38;5;28mself\u001b[39m\u001b[38;5;241m.\u001b[39mlength \u001b[38;5;129;01mis\u001b[39;00m \u001b[38;5;129;01mnot\u001b[39;00m \u001b[38;5;28;01mNone\u001b[39;00m \u001b[38;5;129;01mand\u001b[39;00m (n \u001b[38;5;241m<\u001b[39m \u001b[38;5;241m0\u001b[39m \u001b[38;5;129;01mor\u001b[39;00m n \u001b[38;5;241m>\u001b[39m \u001b[38;5;28mself\u001b[39m\u001b[38;5;241m.\u001b[39mlength):\n\u001b[0;32m    662\u001b[0m     n \u001b[38;5;241m=\u001b[39m \u001b[38;5;28mself\u001b[39m\u001b[38;5;241m.\u001b[39mlength\n",
      "File \u001b[1;32mc:\\Users\\2slon\\anaconda3\\Lib\\http\\client.py:701\u001b[0m, in \u001b[0;36mHTTPResponse._read1_chunked\u001b[1;34m(self, n)\u001b[0m\n\u001b[0;32m    698\u001b[0m \u001b[38;5;28;01mdef\u001b[39;00m \u001b[38;5;21m_read1_chunked\u001b[39m(\u001b[38;5;28mself\u001b[39m, n):\n\u001b[0;32m    699\u001b[0m     \u001b[38;5;66;03m# Strictly speaking, _get_chunk_left() may cause more than one read,\u001b[39;00m\n\u001b[0;32m    700\u001b[0m     \u001b[38;5;66;03m# but that is ok, since that is to satisfy the chunked protocol.\u001b[39;00m\n\u001b[1;32m--> 701\u001b[0m     chunk_left \u001b[38;5;241m=\u001b[39m \u001b[38;5;28mself\u001b[39m\u001b[38;5;241m.\u001b[39m_get_chunk_left()\n\u001b[0;32m    702\u001b[0m     \u001b[38;5;28;01mif\u001b[39;00m chunk_left \u001b[38;5;129;01mis\u001b[39;00m \u001b[38;5;28;01mNone\u001b[39;00m \u001b[38;5;129;01mor\u001b[39;00m n \u001b[38;5;241m==\u001b[39m \u001b[38;5;241m0\u001b[39m:\n\u001b[0;32m    703\u001b[0m         \u001b[38;5;28;01mreturn\u001b[39;00m \u001b[38;5;124mb\u001b[39m\u001b[38;5;124m'\u001b[39m\u001b[38;5;124m'\u001b[39m\n",
      "File \u001b[1;32mc:\\Users\\2slon\\anaconda3\\Lib\\http\\client.py:579\u001b[0m, in \u001b[0;36mHTTPResponse._get_chunk_left\u001b[1;34m(self)\u001b[0m\n\u001b[0;32m    577\u001b[0m     \u001b[38;5;28mself\u001b[39m\u001b[38;5;241m.\u001b[39m_safe_read(\u001b[38;5;241m2\u001b[39m)  \u001b[38;5;66;03m# toss the CRLF at the end of the chunk\u001b[39;00m\n\u001b[0;32m    578\u001b[0m \u001b[38;5;28;01mtry\u001b[39;00m:\n\u001b[1;32m--> 579\u001b[0m     chunk_left \u001b[38;5;241m=\u001b[39m \u001b[38;5;28mself\u001b[39m\u001b[38;5;241m.\u001b[39m_read_next_chunk_size()\n\u001b[0;32m    580\u001b[0m \u001b[38;5;28;01mexcept\u001b[39;00m \u001b[38;5;167;01mValueError\u001b[39;00m:\n\u001b[0;32m    581\u001b[0m     \u001b[38;5;28;01mraise\u001b[39;00m IncompleteRead(\u001b[38;5;124mb\u001b[39m\u001b[38;5;124m'\u001b[39m\u001b[38;5;124m'\u001b[39m)\n",
      "File \u001b[1;32mc:\\Users\\2slon\\anaconda3\\Lib\\http\\client.py:539\u001b[0m, in \u001b[0;36mHTTPResponse._read_next_chunk_size\u001b[1;34m(self)\u001b[0m\n\u001b[0;32m    537\u001b[0m \u001b[38;5;28;01mdef\u001b[39;00m \u001b[38;5;21m_read_next_chunk_size\u001b[39m(\u001b[38;5;28mself\u001b[39m):\n\u001b[0;32m    538\u001b[0m     \u001b[38;5;66;03m# Read the next chunk size from the file\u001b[39;00m\n\u001b[1;32m--> 539\u001b[0m     line \u001b[38;5;241m=\u001b[39m \u001b[38;5;28mself\u001b[39m\u001b[38;5;241m.\u001b[39mfp\u001b[38;5;241m.\u001b[39mreadline(_MAXLINE \u001b[38;5;241m+\u001b[39m \u001b[38;5;241m1\u001b[39m)\n\u001b[0;32m    540\u001b[0m     \u001b[38;5;28;01mif\u001b[39;00m \u001b[38;5;28mlen\u001b[39m(line) \u001b[38;5;241m>\u001b[39m _MAXLINE:\n\u001b[0;32m    541\u001b[0m         \u001b[38;5;28;01mraise\u001b[39;00m LineTooLong(\u001b[38;5;124m\"\u001b[39m\u001b[38;5;124mchunk size\u001b[39m\u001b[38;5;124m\"\u001b[39m)\n",
      "File \u001b[1;32mc:\\Users\\2slon\\anaconda3\\Lib\\socket.py:707\u001b[0m, in \u001b[0;36mSocketIO.readinto\u001b[1;34m(self, b)\u001b[0m\n\u001b[0;32m    705\u001b[0m \u001b[38;5;28;01mwhile\u001b[39;00m \u001b[38;5;28;01mTrue\u001b[39;00m:\n\u001b[0;32m    706\u001b[0m     \u001b[38;5;28;01mtry\u001b[39;00m:\n\u001b[1;32m--> 707\u001b[0m         \u001b[38;5;28;01mreturn\u001b[39;00m \u001b[38;5;28mself\u001b[39m\u001b[38;5;241m.\u001b[39m_sock\u001b[38;5;241m.\u001b[39mrecv_into(b)\n\u001b[0;32m    708\u001b[0m     \u001b[38;5;28;01mexcept\u001b[39;00m timeout:\n\u001b[0;32m    709\u001b[0m         \u001b[38;5;28mself\u001b[39m\u001b[38;5;241m.\u001b[39m_timeout_occurred \u001b[38;5;241m=\u001b[39m \u001b[38;5;28;01mTrue\u001b[39;00m\n",
      "File \u001b[1;32mc:\\Users\\2slon\\anaconda3\\Lib\\ssl.py:1252\u001b[0m, in \u001b[0;36mSSLSocket.recv_into\u001b[1;34m(self, buffer, nbytes, flags)\u001b[0m\n\u001b[0;32m   1248\u001b[0m     \u001b[38;5;28;01mif\u001b[39;00m flags \u001b[38;5;241m!=\u001b[39m \u001b[38;5;241m0\u001b[39m:\n\u001b[0;32m   1249\u001b[0m         \u001b[38;5;28;01mraise\u001b[39;00m \u001b[38;5;167;01mValueError\u001b[39;00m(\n\u001b[0;32m   1250\u001b[0m           \u001b[38;5;124m\"\u001b[39m\u001b[38;5;124mnon-zero flags not allowed in calls to recv_into() on \u001b[39m\u001b[38;5;132;01m%s\u001b[39;00m\u001b[38;5;124m\"\u001b[39m \u001b[38;5;241m%\u001b[39m\n\u001b[0;32m   1251\u001b[0m           \u001b[38;5;28mself\u001b[39m\u001b[38;5;241m.\u001b[39m\u001b[38;5;18m__class__\u001b[39m)\n\u001b[1;32m-> 1252\u001b[0m     \u001b[38;5;28;01mreturn\u001b[39;00m \u001b[38;5;28mself\u001b[39m\u001b[38;5;241m.\u001b[39mread(nbytes, buffer)\n\u001b[0;32m   1253\u001b[0m \u001b[38;5;28;01melse\u001b[39;00m:\n\u001b[0;32m   1254\u001b[0m     \u001b[38;5;28;01mreturn\u001b[39;00m \u001b[38;5;28msuper\u001b[39m()\u001b[38;5;241m.\u001b[39mrecv_into(buffer, nbytes, flags)\n",
      "File \u001b[1;32mc:\\Users\\2slon\\anaconda3\\Lib\\ssl.py:1104\u001b[0m, in \u001b[0;36mSSLSocket.read\u001b[1;34m(self, len, buffer)\u001b[0m\n\u001b[0;32m   1102\u001b[0m \u001b[38;5;28;01mtry\u001b[39;00m:\n\u001b[0;32m   1103\u001b[0m     \u001b[38;5;28;01mif\u001b[39;00m buffer \u001b[38;5;129;01mis\u001b[39;00m \u001b[38;5;129;01mnot\u001b[39;00m \u001b[38;5;28;01mNone\u001b[39;00m:\n\u001b[1;32m-> 1104\u001b[0m         \u001b[38;5;28;01mreturn\u001b[39;00m \u001b[38;5;28mself\u001b[39m\u001b[38;5;241m.\u001b[39m_sslobj\u001b[38;5;241m.\u001b[39mread(\u001b[38;5;28mlen\u001b[39m, buffer)\n\u001b[0;32m   1105\u001b[0m     \u001b[38;5;28;01melse\u001b[39;00m:\n\u001b[0;32m   1106\u001b[0m         \u001b[38;5;28;01mreturn\u001b[39;00m \u001b[38;5;28mself\u001b[39m\u001b[38;5;241m.\u001b[39m_sslobj\u001b[38;5;241m.\u001b[39mread(\u001b[38;5;28mlen\u001b[39m)\n",
      "\u001b[1;31mKeyboardInterrupt\u001b[0m: "
     ]
    }
   ],
   "source": [
    "def process_sequences():\n",
    "    Entrez.email = 'katyachistiakova.05@mail.ru'  \n",
    "    input_file = r\"C:\\Users\\2slon\\OneDrive\\Рабочий стол\\5sem\\pestiviruses\\full_sequences.acc\"\n",
    "\n",
    "    with open(input_file, 'r') as ac:\n",
    "        accessions = [line.strip() for line in ac if line.strip()]\n",
    "    \n",
    "    total_count = len(accessions)\n",
    "    print(f\"Всего accession numbers в файле: {total_count}\")\n",
    "\n",
    "    success_count = 0\n",
    "    no_cds_count = 0\n",
    "    error_count = 0\n",
    "\n",
    "    out_cds = open('CDS_full.fasta', 'w')\n",
    "    out_no_cds = open('no_cds.fasta', 'w')\n",
    "    out_log = open('no_cds.log', 'w')\n",
    "\n",
    "    for accession in accessions:\n",
    "        try:\n",
    "            handle = Entrez.efetch(db=\"nucleotide\", id=accession, rettype='gbwithparts', retmode='text')\n",
    "            record = SeqIO.read(handle, \"genbank\")\n",
    "            handle.close()\n",
    "            cds_features = [feat for feat in record.features if feat.type == \"CDS\"]\n",
    "\n",
    "            if cds_features:\n",
    "                CDS = cds_features[0].extract(record.seq)\n",
    "                cds_record = SeqRecord(\n",
    "                    CDS,\n",
    "                    id=record.id,\n",
    "                    name=record.name,\n",
    "                    description=f\"{record.description} [CDS extracted]\"\n",
    "                )\n",
    "                SeqIO.write(cds_record, out_cds, 'fasta')\n",
    "                success_count += 1\n",
    "\n",
    "            else:\n",
    "                full_record = SeqRecord(\n",
    "                    record.seq,\n",
    "                    id=record.id,\n",
    "                    name=record.name,\n",
    "                    description=f\"{record.description} [FULL SEQUENCE - no CDS found]\"\n",
    "                )\n",
    "                SeqIO.write(full_record, out_no_cds, 'fasta')\n",
    "                out_log.write(f\"{accession}\\n\")\n",
    "                no_cds_count += 1\n",
    "\n",
    "        except Exception as e:\n",
    "            error_count += 1\n",
    "            out_log.write(f\"ERROR: {accession} - {str(e)}\\n\")\n",
    "\n",
    "    out_cds.close()\n",
    "    out_no_cds.close()\n",
    "    out_log.close()\n",
    "\n",
    "    \n",
    "    print(f\"Total count: {total_count}\")\n",
    "    print(f\"Success{success_count}\")\n",
    "    print(f\"No CDS: {no_cds_count}\")\n",
    "    print(f\"Errors: {error_count}\")\n",
    "   \n",
    "process_sequences()\n"
   ]
  }
 ],
 "metadata": {
  "kernelspec": {
   "display_name": "Python NA2",
   "language": "python",
   "name": "na2"
  },
  "language_info": {
   "codemirror_mode": {
    "name": "ipython",
    "version": 3
   },
   "file_extension": ".py",
   "mimetype": "text/x-python",
   "name": "python",
   "nbconvert_exporter": "python",
   "pygments_lexer": "ipython3",
   "version": "3.12.3"
  }
 },
 "nbformat": 4,
 "nbformat_minor": 5
}
